{
 "cells": [
  {
   "cell_type": "code",
   "execution_count": 29,
   "id": "f684b4fa-a5c0-4408-aa61-b9a29fb5c2c9",
   "metadata": {},
   "outputs": [],
   "source": [
    "#que-1\n",
    "#ans-For Loop: A for loop is an iteration method that is best used when you know the number of iterations ahead of time. It’s always followed by the initialization, expression and increment statements.ex-printing number from 1 to 100.\n",
    "#While Loop: A while loop is an iteration method that is best used when you don't know the number of iterations ahead of time. The contents of the loop are executed as long as the expression evaluates to true.ex-running a while loop to print sorry until user enter integer value.\n"
   ]
  },
  {
   "cell_type": "code",
   "execution_count": 6,
   "id": "6d99f734-4d5c-48d5-83f9-18734d65ebfc",
   "metadata": {
    "tags": []
   },
   "outputs": [
    {
     "name": "stdout",
     "output_type": "stream",
     "text": [
      "55\n",
      "3628800\n"
     ]
    }
   ],
   "source": [
    "#que-2\n",
    "i=1\n",
    "product=1\n",
    "sum_=0\n",
    "while i<=10:\n",
    "    sum_=sum_+i\n",
    "    product =product*i\n",
    "    i=i+1\n",
    "print(sum_)\n",
    "print(product)\n",
    "    \n",
    "    \n"
   ]
  },
  {
   "cell_type": "code",
   "execution_count": 7,
   "id": "148f8b81-89e5-4881-a221-4264c08b45f4",
   "metadata": {},
   "outputs": [
    {
     "name": "stdin",
     "output_type": "stream",
     "text": [
      "enter your electricity bill 310\n"
     ]
    },
    {
     "name": "stdout",
     "output_type": "stream",
     "text": [
      "2250.0\n"
     ]
    }
   ],
   "source": [
    "#que-3\n",
    "bill=float(input('enter your electricity bill'))\n",
    "if bill<=100:\n",
    "    print((bill*4.5))\n",
    "elif bill>100 and bill<=200:\n",
    "    print(100*4.5+(bill-100)*6)\n",
    "elif bill>200 and bill<300:\n",
    "    print(100*4.5+100*6+(bill-200)*10)\n",
    "elif bill>=300:\n",
    "    print(100*4.5+100*6+100*10+(bill-300)*20)"
   ]
  },
  {
   "cell_type": "code",
   "execution_count": 19,
   "id": "80f370e7-2c7d-4681-920b-6eb51cd020aa",
   "metadata": {},
   "outputs": [
    {
     "name": "stdout",
     "output_type": "stream",
     "text": [
      "[8, 64, 125, 216, 512, 1000, 1728, 2744, 3375, 4096, 5832, 8000, 10648, 13824, 15625, 17576, 21952, 27000, 32768, 39304, 42875, 46656, 54872, 64000, 74088, 85184, 91125, 97336, 110592, 125000, 140608, 157464, 166375, 175616, 195112, 216000, 238328, 262144, 274625, 287496, 314432, 343000, 373248, 405224, 421875, 438976, 474552, 512000, 551368, 592704, 614125, 636056, 681472, 729000, 778688, 830584, 857375, 884736, 941192, 1000000]\n"
     ]
    }
   ],
   "source": [
    "#que-3\n",
    "a=[]\n",
    "b=[]\n",
    "c=[]\n",
    "d=[]\n",
    "for i in  range (1,101,1):\n",
    "    a.append(i)\n",
    "#using while loop\n",
    "z=0\n",
    "while z<100:\n",
    "    d.append(a[z]*a[z]*a[z])\n",
    "    z=z+1\n",
    "#using for loop   \n",
    "for j in a:\n",
    "    b.append(j*j*j)\n",
    "\n",
    "for k in b:\n",
    "    if k % 4==0 or k % 5==0:\n",
    "        c.append(k)\n",
    "print(c)\n",
    "    \n",
    "  \n",
    "    \n"
   ]
  },
  {
   "cell_type": "code",
   "execution_count": 30,
   "id": "b6de2574-e920-4547-84e4-cd29199f417d",
   "metadata": {},
   "outputs": [
    {
     "name": "stdout",
     "output_type": "stream",
     "text": [
      "12\n"
     ]
    }
   ],
   "source": [
    "s=\"I want to become a data scientist\"\n",
    "s=s.casefold()\n",
    "\n",
    "a=s.split()\n",
    "b=[]\n",
    "count=0\n",
    "for i in a:\n",
    "    b.extend(i)\n",
    "for j in b:\n",
    "    if j=='a' or j=='e' or j=='i' or j=='o' or j=='u' :\n",
    "        count=count+1\n",
    "print(count)\n",
    "\n",
    "\n",
    "\n",
    "\n",
    "    \n",
    "    "
   ]
  },
  {
   "cell_type": "code",
   "execution_count": null,
   "id": "58fdc80f-6dd4-4bdb-b298-016aecc91d59",
   "metadata": {},
   "outputs": [],
   "source": []
  }
 ],
 "metadata": {
  "kernelspec": {
   "display_name": "Python 3 (ipykernel)",
   "language": "python",
   "name": "python3"
  },
  "language_info": {
   "codemirror_mode": {
    "name": "ipython",
    "version": 3
   },
   "file_extension": ".py",
   "mimetype": "text/x-python",
   "name": "python",
   "nbconvert_exporter": "python",
   "pygments_lexer": "ipython3",
   "version": "3.10.8"
  }
 },
 "nbformat": 4,
 "nbformat_minor": 5
}
