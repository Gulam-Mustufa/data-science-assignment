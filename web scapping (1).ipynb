{
 "cells": [
  {
   "cell_type": "code",
   "execution_count": 90,
   "id": "841bcd23-12c2-4ce6-a300-53fdc40b4638",
   "metadata": {
    "tags": []
   },
   "outputs": [],
   "source": [
    "import requests\n",
    "from bs4 import BeautifulSoup as bs\n",
    "from urllib.request import urlopen \n",
    "import logging"
   ]
  },
  {
   "cell_type": "code",
   "execution_count": 91,
   "id": "346f2438-912e-41a5-b5fc-695a66040a33",
   "metadata": {},
   "outputs": [],
   "source": [
    "flipkart_url='https://www.flipkart.com/search?q='+'iphone12'"
   ]
  },
  {
   "cell_type": "code",
   "execution_count": 92,
   "id": "920d1bcb-33ec-4c91-ba31-3055ab6ddd8b",
   "metadata": {},
   "outputs": [
    {
     "data": {
      "text/plain": [
       "'https://www.flipkart.com/search?q=iphone12'"
      ]
     },
     "execution_count": 92,
     "metadata": {},
     "output_type": "execute_result"
    }
   ],
   "source": [
    "flipkart_url"
   ]
  },
  {
   "cell_type": "code",
   "execution_count": 93,
   "id": "137dbeb4-6214-4ee0-8329-932ac0704480",
   "metadata": {},
   "outputs": [],
   "source": [
    "urlclient=urlopen(flipkart_url)"
   ]
  },
  {
   "cell_type": "code",
   "execution_count": 94,
   "id": "1598b600-5969-47a4-9d15-fae74a4fa21e",
   "metadata": {},
   "outputs": [
    {
     "data": {
      "text/plain": [
       "<http.client.HTTPResponse at 0x7f55301a51b0>"
      ]
     },
     "execution_count": 94,
     "metadata": {},
     "output_type": "execute_result"
    }
   ],
   "source": [
    "urlclient"
   ]
  },
  {
   "cell_type": "code",
   "execution_count": 95,
   "id": "b5442be1-4f9c-4e74-b5f9-ff4f55a07d7a",
   "metadata": {},
   "outputs": [],
   "source": [
    "flipkart_page=urlclient.read()"
   ]
  },
  {
   "cell_type": "code",
   "execution_count": 96,
   "id": "12e35542-adf8-4334-86c3-8ce61ad78630",
   "metadata": {},
   "outputs": [],
   "source": [
    "flipkart_html=bs(flipkart_page,'html.parser')"
   ]
  },
  {
   "cell_type": "code",
   "execution_count": 97,
   "id": "3872051f-b5fe-4584-8a0a-c86ec938aed8",
   "metadata": {},
   "outputs": [
    {
     "data": {
      "text/plain": [
       "'https://www.flipkart.com/apple-iphone-13-midnight-512-gb/p/itm7d60d2e9ffd7c?pid=MOBG6VF5GXHZMYMH&lid=LSTMOBG6VF5GXHZMYMHL6HIY4&marketplace=FLIPKART&q=iphone13&store=tyy%2F4io&srno=s_1_8&otracker=search&iid=e640f29a-4254-434c-8eba-f9e9e2fcff38.MOBG6VF5GXHZMYMH.SEARCH&ssid=7yj8bfolog0000001677739291453&qH=7d4afaedfc628b80'"
      ]
     },
     "execution_count": 97,
     "metadata": {},
     "output_type": "execute_result"
    }
   ],
   "source": [
    "'https://www.flipkart.com/apple-iphone-13-midnight-512-gb/p/itm7d60d2e9ffd7c?pid=MOBG6VF5GXHZMYMH&lid=LSTMOBG6VF5GXHZMYMHL6HIY4&marketplace=FLIPKART&q=iphone13&store=tyy%2F4io&srno=s_1_8&otracker=search&iid=e640f29a-4254-434c-8eba-f9e9e2fcff38.MOBG6VF5GXHZMYMH.SEARCH&ssid=7yj8bfolog0000001677739291453&qH=7d4afaedfc628b80'"
   ]
  },
  {
   "cell_type": "code",
   "execution_count": 98,
   "id": "1327ccdc-3631-46c0-a67e-7efa0b1fa00a",
   "metadata": {},
   "outputs": [
    {
     "name": "stdout",
     "output_type": "stream",
     "text": [
      "30\n"
     ]
    }
   ],
   "source": [
    "bigbox = flipkart_html.find_all(\"div\",{\"class\":\"_1AtVbE col-12-12\"})\n",
    "print(len(bigbox))"
   ]
  },
  {
   "cell_type": "code",
   "execution_count": 99,
   "id": "3fcb46c9-815b-4be8-8f03-5b2e1e566ede",
   "metadata": {},
   "outputs": [
    {
     "data": {
      "text/plain": [
       "<div class=\"_1AtVbE col-12-12\"><div class=\"_1KOcBL\"><section class=\"JWMl0H _2hbLCH\"><div class=\"_2ssEMF\"><div class=\"_3V8rao\"><span>Filters</span></div></div></section><div class=\"_2q_g77\"><section class=\"_2aDURW\"><div class=\"_2lfNTw\"><span>CATEGORIES</span></div><div><div class=\"TB_InB\"><span><svg class=\"_2Iqv73\" height=\"10\" viewbox=\"0 0 16 27\" width=\"10\" xmlns=\"http://www.w3.org/2000/svg\"><path class=\"_3zK8He\" d=\"M16 23.207L6.11 13.161 16 3.093 12.955 0 0 13.161l12.955 13.161z\" fill=\"#fff\"></path></svg></span><a class=\"_2qvBBJ _2Mji8F\" href=\"/mobiles-accessories/pr?sid=tyy&amp;q=iphone12&amp;otracker=categorytree\" title=\"Mobiles &amp; Accessories\">Mobiles &amp; Accessories</a></div></div><div><div class=\"TB_InB\"><span><svg class=\"_2Iqv73\" height=\"10\" viewbox=\"0 0 16 27\" width=\"10\" xmlns=\"http://www.w3.org/2000/svg\"><path class=\"\" d=\"M16 23.207L6.11 13.161 16 3.093 12.955 0 0 13.161l12.955 13.161z\" fill=\"#fff\"></path></svg></span><a class=\"_1jJQdf _2Mji8F\" href=\"/mobiles/pr?sid=tyy,4io&amp;q=iphone12&amp;otracker=categorytree\" title=\"Mobiles\">Mobiles</a></div></div></section></div><section class=\"_2yz7eI _2hbLCH\"><div class=\"_3KxRU6 _2ssEMF\"><div class=\"UR1L2I _3V8rao\"><span>Price</span></div></div><div class=\"_2NBiOm\"><div class=\"_1nneZ0\"><div class=\"_2TbXIJ\" style=\"height:0;width:0\"></div><div class=\"_2TbXIJ\" style=\"height:0;width:0\"></div><div class=\"_2TbXIJ\" style=\"height:0;width:0\"></div></div></div><div class=\"_2r34SG\"><div class=\"_12FhcQ\"><div class=\"_31Kbhn _28DFQy\"><div class=\"_3FdLqY\"></div></div><div class=\"_31Kbhn WC_zGJ\"><div class=\"_3FdLqY\"></div></div><div class=\"_2IN3-t\"></div><div class=\"_2IN3-t _1mRwrD\"></div></div><div class=\"_15GU70\"><div class=\"_1ftpgI\" style=\"width:undefinedpx\">.</div><div class=\"_1ftpgI\" style=\"width:undefinedpx\">.</div><div class=\"_1ftpgI\" style=\"width:undefinedpx\">.</div><div class=\"_1ftpgI\" style=\"width:undefinedpx\">.</div><div class=\"_1ftpgI\" style=\"width:undefinedpx\">.</div><div class=\"_1ftpgI\" style=\"width:0px\">.</div></div></div><div class=\"_2b0bUo\"><div class=\"_1YAKP4\"><select class=\"_2YxCDZ\"><option class=\"_3AsjWR\" selected=\"\" value=\"Min\">Min</option><option class=\"_3AsjWR\" value=\"10000\">₹10000</option><option class=\"_3AsjWR\" value=\"15000\">₹15000</option><option class=\"_3AsjWR\" value=\"20000\">₹20000</option><option class=\"_3AsjWR\" value=\"30000\">₹30000</option></select></div><div class=\"_3zohzR\">to</div><div class=\"_3uDYxP\"><select class=\"_2YxCDZ\"><option class=\"_3AsjWR\" value=\"10000\">₹10000</option><option class=\"_3AsjWR\" value=\"15000\">₹15000</option><option class=\"_3AsjWR\" value=\"20000\">₹20000</option><option class=\"_3AsjWR\" value=\"30000\">₹30000</option><option class=\"_3AsjWR\" selected=\"\" value=\"Max\">₹30000+</option></select></div></div></section><section class=\"_167Mu3 _2hbLCH\"><div class=\"_213eRC _2ssEMF\"><div class=\"_2gmUFU _3V8rao\">Brand</div><svg class=\"ttx38n _3DyGEM\" height=\"27\" viewbox=\"0 0 16 27\" width=\"16\" xmlns=\"http://www.w3.org/2000/svg\"><path class=\"IIvmWM\" d=\"M16 23.207L6.11 13.161 16 3.093 12.955 0 0 13.161l12.955 13.161z\" fill=\"#fff\"></path></svg></div><div class=\"_3FPh42\"><div class=\"_2d0we9\"><div class=\"_4921Z t0pPfW\" title=\"APPLE\"><div class=\"_1Y4Vhm _4FO7b6\"><label class=\"_2iDkf8 t0pPfW\"><input class=\"_30VH1S\" readonly=\"\" type=\"checkbox\"/><div class=\"_24_Dny\"></div><div class=\"_3879cV\">APPLE</div></label></div></div></div></div></section><section class=\"_2hbLCH _24gLJx\"><label class=\"_2iDkf8 shbqsL\"><input class=\"_30VH1S\" readonly=\"\" type=\"checkbox\"/><div class=\"_24_Dny _3tCU7L\"></div><div class=\"_3879cV\"><div class=\"_3U-Vxu\"><img class=\"_3U-Vxu\" height=\"21\" src=\"//static-assets-web.flixcart.com/fk-p-linchpin-web/fk-cp-zion/img/fa_62673a.png\"/></div></div></label><div class=\"Bv11UC\"><span class=\"question\">?</span></div></section><section class=\"_167Mu3 _2hbLCH\"><div class=\"_213eRC _2ssEMF\"><div class=\"_2gmUFU _3V8rao\">Customer Ratings</div><svg class=\"ttx38n _3DyGEM\" height=\"27\" viewbox=\"0 0 16 27\" width=\"16\" xmlns=\"http://www.w3.org/2000/svg\"><path class=\"IIvmWM\" d=\"M16 23.207L6.11 13.161 16 3.093 12.955 0 0 13.161l12.955 13.161z\" fill=\"#fff\"></path></svg></div><div class=\"_3FPh42\"><div class=\"_2d0we9\"><div class=\"_4921Z t0pPfW\" title=\"4★ &amp; above\"><div class=\"_1Y4Vhm _4FO7b6\"><label class=\"_2iDkf8 t0pPfW\"><input class=\"_30VH1S\" readonly=\"\" type=\"checkbox\"/><div class=\"_24_Dny\"></div><div class=\"_3879cV\">4★ &amp; above</div></label></div></div><div class=\"_4921Z t0pPfW\" title=\"3★ &amp; above\"><div class=\"_1Y4Vhm _4FO7b6\"><label class=\"_2iDkf8 t0pPfW\"><input class=\"_30VH1S\" readonly=\"\" type=\"checkbox\"/><div class=\"_24_Dny\"></div><div class=\"_3879cV\">3★ &amp; above</div></label></div></div></div></div></section><section class=\"_167Mu3 _2hbLCH\"><div class=\"_213eRC _2ssEMF\"><div class=\"_2gmUFU _3V8rao\">GST Invoice Available</div><svg class=\"ttx38n\" height=\"27\" viewbox=\"0 0 16 27\" width=\"16\" xmlns=\"http://www.w3.org/2000/svg\"><path class=\"IIvmWM\" d=\"M16 23.207L6.11 13.161 16 3.093 12.955 0 0 13.161l12.955 13.161z\" fill=\"#fff\"></path></svg></div></section><section class=\"_167Mu3 _2hbLCH\"><div class=\"_213eRC _2ssEMF\"><div class=\"_2gmUFU _3V8rao\">RAM</div><svg class=\"ttx38n _3DyGEM\" height=\"27\" viewbox=\"0 0 16 27\" width=\"16\" xmlns=\"http://www.w3.org/2000/svg\"><path class=\"IIvmWM\" d=\"M16 23.207L6.11 13.161 16 3.093 12.955 0 0 13.161l12.955 13.161z\" fill=\"#fff\"></path></svg></div><div class=\"_3FPh42\"><div class=\"_2d0we9\"><div class=\"_4921Z t0pPfW\" title=\"1GB and Below\"><div class=\"_1Y4Vhm _4FO7b6\"><label class=\"_2iDkf8 t0pPfW\"><input class=\"_30VH1S\" readonly=\"\" type=\"checkbox\"/><div class=\"_24_Dny\"></div><div class=\"_3879cV\">1GB and Below</div></label></div></div></div></div></section><section class=\"_167Mu3 _2hbLCH\"><div class=\"_213eRC _2ssEMF\"><div class=\"_2gmUFU _3V8rao\">Internal Storage</div><svg class=\"ttx38n\" height=\"27\" viewbox=\"0 0 16 27\" width=\"16\" xmlns=\"http://www.w3.org/2000/svg\"><path class=\"IIvmWM\" d=\"M16 23.207L6.11 13.161 16 3.093 12.955 0 0 13.161l12.955 13.161z\" fill=\"#fff\"></path></svg></div></section><section class=\"_167Mu3 _2hbLCH\"><div class=\"_213eRC _2ssEMF\"><div class=\"_2gmUFU _3V8rao\">Battery Capacity</div><svg class=\"ttx38n\" height=\"27\" viewbox=\"0 0 16 27\" width=\"16\" xmlns=\"http://www.w3.org/2000/svg\"><path class=\"IIvmWM\" d=\"M16 23.207L6.11 13.161 16 3.093 12.955 0 0 13.161l12.955 13.161z\" fill=\"#fff\"></path></svg></div></section><section class=\"_167Mu3 _2hbLCH\"><div class=\"_213eRC _2ssEMF\"><div class=\"_2gmUFU _3V8rao\">Screen Size</div><svg class=\"ttx38n\" height=\"27\" viewbox=\"0 0 16 27\" width=\"16\" xmlns=\"http://www.w3.org/2000/svg\"><path class=\"IIvmWM\" d=\"M16 23.207L6.11 13.161 16 3.093 12.955 0 0 13.161l12.955 13.161z\" fill=\"#fff\"></path></svg></div></section><section class=\"_167Mu3 _2hbLCH\"><div class=\"_213eRC _2ssEMF\"><div class=\"_2gmUFU _3V8rao\">Primary Camera</div><svg class=\"ttx38n\" height=\"27\" viewbox=\"0 0 16 27\" width=\"16\" xmlns=\"http://www.w3.org/2000/svg\"><path class=\"IIvmWM\" d=\"M16 23.207L6.11 13.161 16 3.093 12.955 0 0 13.161l12.955 13.161z\" fill=\"#fff\"></path></svg></div></section><section class=\"_167Mu3 _2hbLCH\"><div class=\"_213eRC _2ssEMF\"><div class=\"_2gmUFU _3V8rao\">Secondary Camera</div><svg class=\"ttx38n\" height=\"27\" viewbox=\"0 0 16 27\" width=\"16\" xmlns=\"http://www.w3.org/2000/svg\"><path class=\"IIvmWM\" d=\"M16 23.207L6.11 13.161 16 3.093 12.955 0 0 13.161l12.955 13.161z\" fill=\"#fff\"></path></svg></div></section><section class=\"_167Mu3 _2hbLCH\"><div class=\"_213eRC _2ssEMF\"><div class=\"_2gmUFU _3V8rao\">Processor Brand</div><svg class=\"ttx38n\" height=\"27\" viewbox=\"0 0 16 27\" width=\"16\" xmlns=\"http://www.w3.org/2000/svg\"><path class=\"IIvmWM\" d=\"M16 23.207L6.11 13.161 16 3.093 12.955 0 0 13.161l12.955 13.161z\" fill=\"#fff\"></path></svg></div></section><section class=\"_167Mu3 _2hbLCH\"><div class=\"_213eRC _2ssEMF\"><div class=\"_2gmUFU _3V8rao\">Speciality</div><svg class=\"ttx38n\" height=\"27\" viewbox=\"0 0 16 27\" width=\"16\" xmlns=\"http://www.w3.org/2000/svg\"><path class=\"IIvmWM\" d=\"M16 23.207L6.11 13.161 16 3.093 12.955 0 0 13.161l12.955 13.161z\" fill=\"#fff\"></path></svg></div></section><section class=\"_167Mu3 _2hbLCH\"><div class=\"_213eRC _2ssEMF\"><div class=\"_2gmUFU _3V8rao\">Resolution Type</div><svg class=\"ttx38n\" height=\"27\" viewbox=\"0 0 16 27\" width=\"16\" xmlns=\"http://www.w3.org/2000/svg\"><path class=\"IIvmWM\" d=\"M16 23.207L6.11 13.161 16 3.093 12.955 0 0 13.161l12.955 13.161z\" fill=\"#fff\"></path></svg></div></section><section class=\"_167Mu3 _2hbLCH\"><div class=\"_213eRC _2ssEMF\"><div class=\"_2gmUFU _3V8rao\">Operating System</div><svg class=\"ttx38n\" height=\"27\" viewbox=\"0 0 16 27\" width=\"16\" xmlns=\"http://www.w3.org/2000/svg\"><path class=\"IIvmWM\" d=\"M16 23.207L6.11 13.161 16 3.093 12.955 0 0 13.161l12.955 13.161z\" fill=\"#fff\"></path></svg></div></section><section class=\"_167Mu3 _2hbLCH\"><div class=\"_213eRC _2ssEMF\"><div class=\"_2gmUFU _3V8rao\">Network Type</div><svg class=\"ttx38n\" height=\"27\" viewbox=\"0 0 16 27\" width=\"16\" xmlns=\"http://www.w3.org/2000/svg\"><path class=\"IIvmWM\" d=\"M16 23.207L6.11 13.161 16 3.093 12.955 0 0 13.161l12.955 13.161z\" fill=\"#fff\"></path></svg></div></section><section class=\"_167Mu3 _2hbLCH\"><div class=\"_213eRC _2ssEMF\"><div class=\"_2gmUFU _3V8rao\">Sim Type</div><svg class=\"ttx38n\" height=\"27\" viewbox=\"0 0 16 27\" width=\"16\" xmlns=\"http://www.w3.org/2000/svg\"><path class=\"IIvmWM\" d=\"M16 23.207L6.11 13.161 16 3.093 12.955 0 0 13.161l12.955 13.161z\" fill=\"#fff\"></path></svg></div></section><section class=\"_167Mu3 _2hbLCH\"><div class=\"_213eRC _2ssEMF\"><div class=\"_2gmUFU _3V8rao\">Offers</div><svg class=\"ttx38n _3DyGEM\" height=\"27\" viewbox=\"0 0 16 27\" width=\"16\" xmlns=\"http://www.w3.org/2000/svg\"><path class=\"IIvmWM\" d=\"M16 23.207L6.11 13.161 16 3.093 12.955 0 0 13.161l12.955 13.161z\" fill=\"#fff\"></path></svg></div><div class=\"_3FPh42\"><div class=\"_2d0we9\"><div class=\"_4921Z t0pPfW\" title=\"No Cost EMI\"><div class=\"_1Y4Vhm _4FO7b6\"><label class=\"_2iDkf8 t0pPfW\"><input class=\"_30VH1S\" readonly=\"\" type=\"checkbox\"/><div class=\"_24_Dny\"></div><div class=\"_3879cV\">No Cost EMI</div></label></div></div><div class=\"_4921Z t0pPfW\" title=\"Special Price\"><div class=\"_1Y4Vhm _4FO7b6\"><label class=\"_2iDkf8 t0pPfW\"><input class=\"_30VH1S\" readonly=\"\" type=\"checkbox\"/><div class=\"_24_Dny\"></div><div class=\"_3879cV\">Special Price</div></label></div></div><div class=\"_4921Z t0pPfW\" title=\"Buy More, Save More\"><div class=\"_1Y4Vhm _4FO7b6\"><label class=\"_2iDkf8 _2uGXy_ t0pPfW\"><input class=\"_30VH1S\" readonly=\"\" type=\"checkbox\"/><div class=\"_24_Dny\"></div><div class=\"_3879cV\">Buy More, Save More</div></label></div></div></div></div></section><section class=\"_167Mu3 _2hbLCH\"><div class=\"_213eRC _2ssEMF\"><div class=\"_2gmUFU _3V8rao\">Features</div><svg class=\"ttx38n\" height=\"27\" viewbox=\"0 0 16 27\" width=\"16\" xmlns=\"http://www.w3.org/2000/svg\"><path class=\"IIvmWM\" d=\"M16 23.207L6.11 13.161 16 3.093 12.955 0 0 13.161l12.955 13.161z\" fill=\"#fff\"></path></svg></div></section><section class=\"_167Mu3 _2hbLCH\"><div class=\"_213eRC _2ssEMF\"><div class=\"_2gmUFU _3V8rao\">Type</div><svg class=\"ttx38n\" height=\"27\" viewbox=\"0 0 16 27\" width=\"16\" xmlns=\"http://www.w3.org/2000/svg\"><path class=\"IIvmWM\" d=\"M16 23.207L6.11 13.161 16 3.093 12.955 0 0 13.161l12.955 13.161z\" fill=\"#fff\"></path></svg></div></section><section class=\"_167Mu3 _2hbLCH\"><div class=\"_213eRC _2ssEMF\"><div class=\"_2gmUFU _3V8rao\">Number of Cores</div><svg class=\"ttx38n\" height=\"27\" viewbox=\"0 0 16 27\" width=\"16\" xmlns=\"http://www.w3.org/2000/svg\"><path class=\"IIvmWM\" d=\"M16 23.207L6.11 13.161 16 3.093 12.955 0 0 13.161l12.955 13.161z\" fill=\"#fff\"></path></svg></div></section><section class=\"_167Mu3 _2hbLCH\"><div class=\"_213eRC _2ssEMF\"><div class=\"_2gmUFU _3V8rao\">Availability</div><svg class=\"ttx38n\" height=\"27\" viewbox=\"0 0 16 27\" width=\"16\" xmlns=\"http://www.w3.org/2000/svg\"><path class=\"IIvmWM\" d=\"M16 23.207L6.11 13.161 16 3.093 12.955 0 0 13.161l12.955 13.161z\" fill=\"#fff\"></path></svg></div></section><section class=\"_167Mu3 _2hbLCH\"><div class=\"_213eRC _2ssEMF\"><div class=\"_2gmUFU _3V8rao\">Discount</div><svg class=\"ttx38n _3DyGEM\" height=\"27\" viewbox=\"0 0 16 27\" width=\"16\" xmlns=\"http://www.w3.org/2000/svg\"><path class=\"IIvmWM\" d=\"M16 23.207L6.11 13.161 16 3.093 12.955 0 0 13.161l12.955 13.161z\" fill=\"#fff\"></path></svg></div><div class=\"_3FPh42\"><div class=\"_2d0we9\"><div class=\"_4921Z t0pPfW\" title=\"50% or more\"><div class=\"_1Y4Vhm _4FO7b6\"><label class=\"_2iDkf8 t0pPfW\"><input class=\"_30VH1S\" readonly=\"\" type=\"checkbox\"/><div class=\"_24_Dny\"></div><div class=\"_3879cV\">50% or more</div></label></div></div><div class=\"_4921Z t0pPfW\" title=\"40% or more\"><div class=\"_1Y4Vhm _4FO7b6\"><label class=\"_2iDkf8 t0pPfW\"><input class=\"_30VH1S\" readonly=\"\" type=\"checkbox\"/><div class=\"_24_Dny\"></div><div class=\"_3879cV\">40% or more</div></label></div></div><div class=\"_4921Z t0pPfW\" title=\"30% or more\"><div class=\"_1Y4Vhm _4FO7b6\"><label class=\"_2iDkf8 t0pPfW\"><input class=\"_30VH1S\" readonly=\"\" type=\"checkbox\"/><div class=\"_24_Dny\"></div><div class=\"_3879cV\">30% or more</div></label></div></div><div class=\"_4921Z t0pPfW\" title=\"20% or more\"><div class=\"_1Y4Vhm _4FO7b6\"><label class=\"_2iDkf8 t0pPfW\"><input class=\"_30VH1S\" readonly=\"\" type=\"checkbox\"/><div class=\"_24_Dny\"></div><div class=\"_3879cV\">20% or more</div></label></div></div><div class=\"_4921Z t0pPfW\" title=\"10% or more\"><div class=\"_1Y4Vhm _4FO7b6\"><label class=\"_2iDkf8 t0pPfW\"><input class=\"_30VH1S\" readonly=\"\" type=\"checkbox\"/><div class=\"_24_Dny\"></div><div class=\"_3879cV\">10% or more</div></label></div></div></div></div></section><section class=\"_167Mu3 _2hbLCH\"><div class=\"_213eRC _2ssEMF\"><div class=\"_2gmUFU _3V8rao\">Clock Speed</div><svg class=\"ttx38n\" height=\"27\" viewbox=\"0 0 16 27\" width=\"16\" xmlns=\"http://www.w3.org/2000/svg\"><path class=\"IIvmWM\" d=\"M16 23.207L6.11 13.161 16 3.093 12.955 0 0 13.161l12.955 13.161z\" fill=\"#fff\"></path></svg></div></section></div></div>"
      ]
     },
     "execution_count": 99,
     "metadata": {},
     "output_type": "execute_result"
    }
   ],
   "source": [
    "flipkart_html.find(\"div\",{\"class\":\"_1AtVbE col-12-12\"})"
   ]
  },
  {
   "cell_type": "code",
   "execution_count": 100,
   "id": "1f6be060-2ba0-45a6-9358-116a82c95027",
   "metadata": {},
   "outputs": [
    {
     "data": {
      "text/plain": [
       "'/apple-iphone-12-purple-64-gb/p/itmfca1e77621c65?pid=MOBG2EPZJUZEYZGK&lid=LSTMOBG2EPZJUZEYZGK3JC9XU&marketplace=FLIPKART&q=iphone12&store=tyy%2F4io&srno=s_1_3&otracker=search&fm=organic&iid=faf3b375-3a3f-478b-b2b4-e8ab5aedec42.MOBG2EPZJUZEYZGK.SEARCH&ppt=None&ppn=None&ssid=4czn5dwofk0000001677774963015&qH=ad588135f239b88b'"
      ]
     },
     "execution_count": 100,
     "metadata": {},
     "output_type": "execute_result"
    }
   ],
   "source": [
    "bigbox[4].div.div.div.a['href']"
   ]
  },
  {
   "cell_type": "code",
   "execution_count": 101,
   "id": "ae586a96-ec8c-4d09-9a8c-5c2641ac020b",
   "metadata": {},
   "outputs": [],
   "source": [
    "product_link='https://www.flipkart.com'+bigbox[4].div.div.div.a['href']"
   ]
  },
  {
   "cell_type": "code",
   "execution_count": 102,
   "id": "d7921d64-3e0c-4235-9e45-19085399beae",
   "metadata": {},
   "outputs": [
    {
     "data": {
      "text/plain": [
       "'https://www.flipkart.com/apple-iphone-12-purple-64-gb/p/itmfca1e77621c65?pid=MOBG2EPZJUZEYZGK&lid=LSTMOBG2EPZJUZEYZGK3JC9XU&marketplace=FLIPKART&q=iphone12&store=tyy%2F4io&srno=s_1_3&otracker=search&fm=organic&iid=faf3b375-3a3f-478b-b2b4-e8ab5aedec42.MOBG2EPZJUZEYZGK.SEARCH&ppt=None&ppn=None&ssid=4czn5dwofk0000001677774963015&qH=ad588135f239b88b'"
      ]
     },
     "execution_count": 102,
     "metadata": {},
     "output_type": "execute_result"
    }
   ],
   "source": [
    "product_link"
   ]
  },
  {
   "cell_type": "code",
   "execution_count": 103,
   "id": "015659fa-15a7-4755-acb5-3aa843fad434",
   "metadata": {},
   "outputs": [],
   "source": [
    "prod_req= requests.get(product_link)"
   ]
  },
  {
   "cell_type": "code",
   "execution_count": 104,
   "id": "9815f0d5-a180-43fb-a295-4a40f7d13611",
   "metadata": {},
   "outputs": [],
   "source": [
    "product_html=bs(prod_req.text,'html.parser')"
   ]
  },
  {
   "cell_type": "code",
   "execution_count": 105,
   "id": "711f2a86-79f2-4435-b3bb-73edfac09b08",
   "metadata": {},
   "outputs": [],
   "source": [
    "comment_box=product_html.find_all('div',{\"class\":\"_16PBlm\"})"
   ]
  },
  {
   "cell_type": "code",
   "execution_count": 106,
   "id": "9619c362-deac-4bbc-82f6-ce17902d65ed",
   "metadata": {},
   "outputs": [
    {
     "data": {
      "text/plain": [
       "11"
      ]
     },
     "execution_count": 106,
     "metadata": {},
     "output_type": "execute_result"
    }
   ],
   "source": [
    "len(comment_box)"
   ]
  },
  {
   "cell_type": "code",
   "execution_count": 107,
   "id": "d7c4c91c-f213-433e-bec9-f1eb178cd97a",
   "metadata": {},
   "outputs": [
    {
     "data": {
      "text/plain": [
       "'Flipkart Customer'"
      ]
     },
     "execution_count": 107,
     "metadata": {},
     "output_type": "execute_result"
    }
   ],
   "source": [
    "comment_box[0].div.div.find_all('p',{\"class\":\"_2sc7ZR _2V5EHH\"})[0].text"
   ]
  },
  {
   "cell_type": "code",
   "execution_count": 108,
   "id": "ce4f3bd9-ad7d-4ddd-a4ac-1127b2c7147c",
   "metadata": {},
   "outputs": [
    {
     "name": "stdout",
     "output_type": "stream",
     "text": [
      "Flipkart Customer\n",
      "Anurag Lad\n",
      "Vishal Gandhi\n",
      "Athul Shabu\n",
      "Flipkart Customer\n",
      "Ishu Kumar\n",
      "Ayaz Ahmad\n",
      "Vijaya Kurkute\n",
      "Suddha Ram boro\n",
      "Indradav Sharma \n"
     ]
    },
    {
     "ename": "AttributeError",
     "evalue": "'NoneType' object has no attribute 'div'",
     "output_type": "error",
     "traceback": [
      "\u001b[0;31m---------------------------------------------------------------------------\u001b[0m",
      "\u001b[0;31mAttributeError\u001b[0m                            Traceback (most recent call last)",
      "Cell \u001b[0;32mIn[108], line 2\u001b[0m\n\u001b[1;32m      1\u001b[0m \u001b[38;5;28;01mfor\u001b[39;00m i \u001b[38;5;129;01min\u001b[39;00m comment_box:\n\u001b[0;32m----> 2\u001b[0m     \u001b[38;5;28mprint\u001b[39m(\u001b[43mi\u001b[49m\u001b[38;5;241;43m.\u001b[39;49m\u001b[43mdiv\u001b[49m\u001b[38;5;241;43m.\u001b[39;49m\u001b[43mdiv\u001b[49m\u001b[38;5;241m.\u001b[39mfind_all(\u001b[38;5;124m'\u001b[39m\u001b[38;5;124mp\u001b[39m\u001b[38;5;124m'\u001b[39m,{\u001b[38;5;124m\"\u001b[39m\u001b[38;5;124mclass\u001b[39m\u001b[38;5;124m\"\u001b[39m:\u001b[38;5;124m\"\u001b[39m\u001b[38;5;124m_2sc7ZR _2V5EHH\u001b[39m\u001b[38;5;124m\"\u001b[39m})[\u001b[38;5;241m0\u001b[39m]\u001b[38;5;241m.\u001b[39mtext)\n",
      "\u001b[0;31mAttributeError\u001b[0m: 'NoneType' object has no attribute 'div'"
     ]
    }
   ],
   "source": [
    "for i in comment_box:\n",
    "    print(i.div.div.find_all('p',{\"class\":\"_2sc7ZR _2V5EHH\"})[0].text)"
   ]
  },
  {
   "cell_type": "code",
   "execution_count": 109,
   "id": "e220eee6-ec1e-4cba-b392-7e4fcf9d523b",
   "metadata": {},
   "outputs": [
    {
     "data": {
      "text/plain": [
       "'5'"
      ]
     },
     "execution_count": 109,
     "metadata": {},
     "output_type": "execute_result"
    }
   ],
   "source": [
    "comment_box[0].div.div.div.div.text"
   ]
  },
  {
   "cell_type": "code",
   "execution_count": 110,
   "id": "2bbfef0f-2ac1-4bba-9517-b1f5dc3396ef",
   "metadata": {},
   "outputs": [
    {
     "name": "stdout",
     "output_type": "stream",
     "text": [
      "5\n",
      "5\n",
      "5\n",
      "5\n",
      "5\n",
      "5\n",
      "5\n",
      "5\n",
      "5\n",
      "5\n"
     ]
    },
    {
     "ename": "AttributeError",
     "evalue": "'NoneType' object has no attribute 'div'",
     "output_type": "error",
     "traceback": [
      "\u001b[0;31m---------------------------------------------------------------------------\u001b[0m",
      "\u001b[0;31mAttributeError\u001b[0m                            Traceback (most recent call last)",
      "Cell \u001b[0;32mIn[110], line 2\u001b[0m\n\u001b[1;32m      1\u001b[0m \u001b[38;5;28;01mfor\u001b[39;00m i \u001b[38;5;129;01min\u001b[39;00m comment_box:\n\u001b[0;32m----> 2\u001b[0m     \u001b[38;5;28mprint\u001b[39m(\u001b[43mi\u001b[49m\u001b[38;5;241;43m.\u001b[39;49m\u001b[43mdiv\u001b[49m\u001b[38;5;241;43m.\u001b[39;49m\u001b[43mdiv\u001b[49m\u001b[38;5;241m.\u001b[39mdiv\u001b[38;5;241m.\u001b[39mdiv\u001b[38;5;241m.\u001b[39mtext)\n",
      "\u001b[0;31mAttributeError\u001b[0m: 'NoneType' object has no attribute 'div'"
     ]
    }
   ],
   "source": [
    "for i in comment_box:\n",
    "    print(i.div.div.div.div.text)"
   ]
  },
  {
   "cell_type": "code",
   "execution_count": 111,
   "id": "fc07334d-8a9b-4e56-9269-96bae96eae09",
   "metadata": {},
   "outputs": [
    {
     "data": {
      "text/plain": [
       "'Terrific'"
      ]
     },
     "execution_count": 111,
     "metadata": {},
     "output_type": "execute_result"
    }
   ],
   "source": [
    "comment_box[0].div.div.div.p.text"
   ]
  },
  {
   "cell_type": "code",
   "execution_count": 112,
   "id": "c23c24e5-82e5-4982-ac41-71ca46b62b7e",
   "metadata": {},
   "outputs": [
    {
     "name": "stdout",
     "output_type": "stream",
     "text": [
      "Terrific\n",
      "Perfect product!\n",
      "Terrific purchase\n",
      "Must buy!\n",
      "Awesome\n",
      "Mind-blowing purchase\n",
      "Brilliant\n",
      "Highly recommended\n",
      "Awesome\n",
      "Must buy!\n"
     ]
    },
    {
     "ename": "AttributeError",
     "evalue": "'NoneType' object has no attribute 'div'",
     "output_type": "error",
     "traceback": [
      "\u001b[0;31m---------------------------------------------------------------------------\u001b[0m",
      "\u001b[0;31mAttributeError\u001b[0m                            Traceback (most recent call last)",
      "Cell \u001b[0;32mIn[112], line 2\u001b[0m\n\u001b[1;32m      1\u001b[0m \u001b[38;5;28;01mfor\u001b[39;00m i \u001b[38;5;129;01min\u001b[39;00m comment_box:\n\u001b[0;32m----> 2\u001b[0m     \u001b[38;5;28mprint\u001b[39m(\u001b[43mi\u001b[49m\u001b[38;5;241;43m.\u001b[39;49m\u001b[43mdiv\u001b[49m\u001b[38;5;241;43m.\u001b[39;49m\u001b[43mdiv\u001b[49m\u001b[38;5;241m.\u001b[39mdiv\u001b[38;5;241m.\u001b[39mp\u001b[38;5;241m.\u001b[39mtext)\n",
      "\u001b[0;31mAttributeError\u001b[0m: 'NoneType' object has no attribute 'div'"
     ]
    }
   ],
   "source": [
    "for i in comment_box:\n",
    "    print(i.div.div.div.p.text)"
   ]
  },
  {
   "cell_type": "code",
   "execution_count": 113,
   "id": "bdc1f809-01da-4567-9957-30d3cfd41d8e",
   "metadata": {},
   "outputs": [
    {
     "data": {
      "text/plain": [
       "'Wow superb camera phone Very smooth speed and no lag , iphone is the king always Its a beautiful product'"
      ]
     },
     "execution_count": 113,
     "metadata": {},
     "output_type": "execute_result"
    }
   ],
   "source": [
    "comment_box[0].div.div.find_all('div',{'class':''})[0].div.text"
   ]
  },
  {
   "cell_type": "code",
   "execution_count": 114,
   "id": "ae69c349-7b1b-42b8-8a70-034638bbfbe7",
   "metadata": {},
   "outputs": [
    {
     "name": "stdout",
     "output_type": "stream",
     "text": [
      "Wow superb camera phone Very smooth speed and no lag , iphone is the king always Its a beautiful product\n",
      "The brand is very trustworthy and i got genuine pice at a very low cost.I ordered the green one and trust me the colour was amazing.All the colours but specifically green and purple are nice for look.Thanks to flipkart❤️\n",
      "Awesome phone … value for money.. Happy with battery life.. Awesome camera features… look at the images snapped using the phone… easy to use.. Just feared about getting scratch at back glass… but using cover helped it…\n",
      "Top class performance  and battery backup too. Charges quickly if u are using a 20w charger. Night mode is good , HDR mode works flawlessly. VFM phone.\n",
      "Excellent product worth for every penny, writing this review after using 7 days, earlier was using iPhone 6Plus now on iPhone 12 😍, faster then anything this else.Excellent Picture quality.Just loved it.!!\n",
      "Guys ,this is just Beast at Every Aspect of Configurations, Full Pack with What You want, Like Best Camera , Best Display, Best Battery for whole Day Use, And Everyone know About Processing Speed👌..\n",
      "Almost 1month of purshase and i am loving it . Great for photography and videography and trust me the stability of video is awesome . High end performence in Gaming , the only problem is that it heats up a little while playing Bgmi but if u play in a AC room then there's no issue .The boxy look of iphone 12 is very good and it gives a premium feel while holding . worth buying . also if you are confused between iph 11 or iph12 then close your eyes and go for iphone 12 .\n",
      "Thanx flipkart for value super sale for short time period of 1hour😁, flipkart might need to work on faster deliveryIphone 12 which i got in best price on flipkart1. Camera performance - superb2. Display - superb3. Interface - Amazing\n",
      "Thanks flipkart i trust you got my device perfectly loved it best phone in it's segment\n",
      "I really m glad that i went for i phone in place of all other android devices like the Samsung S series nd one plus . Also , m amazed by the battery life in this i phone . Single charge and its last for a day easily ..Even the gaming experience was great\n"
     ]
    },
    {
     "ename": "AttributeError",
     "evalue": "'NoneType' object has no attribute 'div'",
     "output_type": "error",
     "traceback": [
      "\u001b[0;31m---------------------------------------------------------------------------\u001b[0m",
      "\u001b[0;31mAttributeError\u001b[0m                            Traceback (most recent call last)",
      "Cell \u001b[0;32mIn[114], line 2\u001b[0m\n\u001b[1;32m      1\u001b[0m \u001b[38;5;28;01mfor\u001b[39;00m i \u001b[38;5;129;01min\u001b[39;00m comment_box:\n\u001b[0;32m----> 2\u001b[0m     \u001b[38;5;28mprint\u001b[39m(\u001b[43mi\u001b[49m\u001b[38;5;241;43m.\u001b[39;49m\u001b[43mdiv\u001b[49m\u001b[38;5;241;43m.\u001b[39;49m\u001b[43mdiv\u001b[49m\u001b[38;5;241m.\u001b[39mfind_all(\u001b[38;5;124m'\u001b[39m\u001b[38;5;124mdiv\u001b[39m\u001b[38;5;124m'\u001b[39m,{\u001b[38;5;124m'\u001b[39m\u001b[38;5;124mclass\u001b[39m\u001b[38;5;124m'\u001b[39m:\u001b[38;5;124m'\u001b[39m\u001b[38;5;124m'\u001b[39m})[\u001b[38;5;241m0\u001b[39m]\u001b[38;5;241m.\u001b[39mdiv\u001b[38;5;241m.\u001b[39mtext)\n",
      "\u001b[0;31mAttributeError\u001b[0m: 'NoneType' object has no attribute 'div'"
     ]
    }
   ],
   "source": [
    "for i in comment_box:\n",
    "    print(i.div.div.find_all('div',{'class':''})[0].div.text)"
   ]
  },
  {
   "cell_type": "code",
   "execution_count": null,
   "id": "ac28b24e-ef39-4c92-80ce-b47ecf4620ef",
   "metadata": {},
   "outputs": [],
   "source": []
  },
  {
   "cell_type": "code",
   "execution_count": null,
   "id": "e227647b-4e7d-4903-8c60-cb2e05d3eaaf",
   "metadata": {},
   "outputs": [],
   "source": []
  },
  {
   "cell_type": "code",
   "execution_count": 115,
   "id": "68b552a6-3e5f-4d30-8bed-04660f2525f5",
   "metadata": {},
   "outputs": [],
   "source": [
    "del bigbox[0:3]\n",
    "\n"
   ]
  },
  {
   "cell_type": "code",
   "execution_count": 116,
   "id": "ae75726c-733f-4968-b567-11a1f67860ce",
   "metadata": {},
   "outputs": [
    {
     "name": "stdout",
     "output_type": "stream",
     "text": [
      "https://www.flipkart.com/apple-iphone-12-green-64-gb/p/itmc8a19a9686173?pid=MOBFWBYZKK3EJPFW&lid=LSTMOBFWBYZKK3EJPFWVBZVKG&marketplace=FLIPKART&q=iphone12&store=tyy%2F4io&srno=s_1_2&otracker=search&fm=organic&iid=faf3b375-3a3f-478b-b2b4-e8ab5aedec42.MOBFWBYZKK3EJPFW.SEARCH&ppt=None&ppn=None&ssid=4czn5dwofk0000001677774963015&qH=ad588135f239b88b\n",
      "https://www.flipkart.com/apple-iphone-12-purple-64-gb/p/itmfca1e77621c65?pid=MOBG2EPZJUZEYZGK&lid=LSTMOBG2EPZJUZEYZGK3JC9XU&marketplace=FLIPKART&q=iphone12&store=tyy%2F4io&srno=s_1_3&otracker=search&fm=organic&iid=faf3b375-3a3f-478b-b2b4-e8ab5aedec42.MOBG2EPZJUZEYZGK.SEARCH&ppt=None&ppn=None&ssid=4czn5dwofk0000001677774963015&qH=ad588135f239b88b\n",
      "https://www.flipkart.com/apple-iphone-12-black-128-gb/p/itmf1f0a58f1ecd7?pid=MOBFWBYZK3HACR72&lid=LSTMOBFWBYZK3HACR72T8MSUQ&marketplace=FLIPKART&q=iphone12&store=tyy%2F4io&srno=s_1_4&otracker=search&fm=organic&iid=faf3b375-3a3f-478b-b2b4-e8ab5aedec42.MOBFWBYZK3HACR72.SEARCH&ppt=None&ppn=None&ssid=4czn5dwofk0000001677774963015&qH=ad588135f239b88b\n",
      "https://www.flipkart.com/apple-iphone-12-blue-64-gb/p/itm5778ad0d0d255?pid=MOBFWBYZ8DNJNY7N&lid=LSTMOBFWBYZ8DNJNY7NK9PX3E&marketplace=FLIPKART&q=iphone12&store=tyy%2F4io&srno=s_1_5&otracker=search&fm=organic&iid=faf3b375-3a3f-478b-b2b4-e8ab5aedec42.MOBFWBYZ8DNJNY7N.SEARCH&ppt=None&ppn=None&ssid=4czn5dwofk0000001677774963015&qH=ad588135f239b88b\n",
      "https://www.flipkart.com/apple-iphone-12-white-64-gb/p/itm8b88bdc03cd79?pid=MOBFWBYZTK33MBG9&lid=LSTMOBFWBYZTK33MBG9ZFJ0HL&marketplace=FLIPKART&q=iphone12&store=tyy%2F4io&srno=s_1_6&otracker=search&fm=organic&iid=faf3b375-3a3f-478b-b2b4-e8ab5aedec42.MOBFWBYZTK33MBG9.SEARCH&ppt=None&ppn=None&ssid=4czn5dwofk0000001677774963015&qH=ad588135f239b88b\n",
      "https://www.flipkart.com/apple-iphone-12-red-128-gb/p/itma7bd86885ed98?pid=MOBFWBYZUHPFWQRD&lid=LSTMOBFWBYZUHPFWQRD6PEPH0&marketplace=FLIPKART&q=iphone12&store=tyy%2F4io&srno=s_1_7&otracker=search&fm=organic&iid=faf3b375-3a3f-478b-b2b4-e8ab5aedec42.MOBFWBYZUHPFWQRD.SEARCH&ppt=None&ppn=None&ssid=4czn5dwofk0000001677774963015&qH=ad588135f239b88b\n",
      "https://www.flipkart.com/apple-iphone-12-green-128-gb/p/itm4e0a120f7d9c4?pid=MOBFWBYZQXUEHF48&lid=LSTMOBFWBYZQXUEHF484WD4A9&marketplace=FLIPKART&q=iphone12&store=tyy%2F4io&srno=s_1_8&otracker=search&fm=organic&iid=faf3b375-3a3f-478b-b2b4-e8ab5aedec42.MOBFWBYZQXUEHF48.SEARCH&ppt=None&ppn=None&ssid=4czn5dwofk0000001677774963015&qH=ad588135f239b88b\n",
      "https://www.flipkart.com/apple-iphone-12-white-128-gb/p/itm95393f4c6cc59?pid=MOBFWBYZBTZFGJF9&lid=LSTMOBFWBYZBTZFGJF9RAHZAK&marketplace=FLIPKART&q=iphone12&store=tyy%2F4io&srno=s_1_9&otracker=search&fm=organic&iid=faf3b375-3a3f-478b-b2b4-e8ab5aedec42.MOBFWBYZBTZFGJF9.SEARCH&ppt=None&ppn=None&ssid=4czn5dwofk0000001677774963015&qH=ad588135f239b88b\n",
      "https://www.flipkart.com/apple-iphone-12-black-256-gb/p/itm68421fa1c1121?pid=MOBFWBYZ7CR9FRHZ&lid=LSTMOBFWBYZ7CR9FRHZIALAIL&marketplace=FLIPKART&q=iphone12&store=tyy%2F4io&srno=s_1_10&otracker=search&fm=organic&iid=faf3b375-3a3f-478b-b2b4-e8ab5aedec42.MOBFWBYZ7CR9FRHZ.SEARCH&ppt=None&ppn=None&ssid=4czn5dwofk0000001677774963015&qH=ad588135f239b88b\n",
      "https://www.flipkart.com/apple-iphone-12-blue-256-gb/p/itm3be487cd1dea5?pid=MOBFWBYZKYYZUANT&lid=LSTMOBFWBYZKYYZUANT0DVCKS&marketplace=FLIPKART&q=iphone12&store=tyy%2F4io&srno=s_1_11&otracker=search&fm=organic&iid=faf3b375-3a3f-478b-b2b4-e8ab5aedec42.MOBFWBYZKYYZUANT.SEARCH&ppt=None&ppn=None&ssid=4czn5dwofk0000001677774963015&qH=ad588135f239b88b\n",
      "https://www.flipkart.com/apple-iphone-12-purple-256-gb/p/itmfce36e1443299?pid=MOBG2EPZ6TFVH4YN&lid=LSTMOBG2EPZ6TFVH4YN9NZSKV&marketplace=FLIPKART&q=iphone12&store=tyy%2F4io&srno=s_1_12&otracker=search&fm=organic&iid=faf3b375-3a3f-478b-b2b4-e8ab5aedec42.MOBG2EPZ6TFVH4YN.SEARCH&ppt=None&ppn=None&ssid=4czn5dwofk0000001677774963015&qH=ad588135f239b88b\n",
      "https://www.flipkart.com/apple-iphone-12-green-256-gb/p/itm6d126e7980774?pid=MOBFWBYZZPFJYYEY&lid=LSTMOBFWBYZZPFJYYEYEJFIAS&marketplace=FLIPKART&q=iphone12&store=tyy%2F4io&srno=s_1_13&otracker=search&fm=organic&iid=faf3b375-3a3f-478b-b2b4-e8ab5aedec42.MOBFWBYZZPFJYYEY.SEARCH&ppt=None&ppn=None&ssid=4czn5dwofk0000001677774963015&qH=ad588135f239b88b\n",
      "https://www.flipkart.com/apple-iphone-12-purple-128-gb/p/itmebc78f1cb26d3?pid=MOBG2EPZK5ZD9KYS&lid=LSTMOBG2EPZK5ZD9KYSOG4BIP&marketplace=FLIPKART&q=iphone12&store=tyy%2F4io&srno=s_1_14&otracker=search&fm=organic&iid=faf3b375-3a3f-478b-b2b4-e8ab5aedec42.MOBG2EPZK5ZD9KYS.SEARCH&ppt=None&ppn=None&ssid=4czn5dwofk0000001677774963015&qH=ad588135f239b88b\n",
      "https://www.flipkart.com/apple-iphone-12-red-64-gb/p/itm3481e4053d500?pid=MOBFWBYZDP6QCQ8F&lid=LSTMOBFWBYZDP6QCQ8FPGCIEN&marketplace=FLIPKART&q=iphone12&store=tyy%2F4io&srno=s_1_15&otracker=search&fm=organic&iid=faf3b375-3a3f-478b-b2b4-e8ab5aedec42.MOBFWBYZDP6QCQ8F.SEARCH&ppt=None&ppn=None&ssid=4czn5dwofk0000001677774963015&qH=ad588135f239b88b\n",
      "https://www.flipkart.com/apple-iphone-12-white-256-gb/p/itmcfbcb621e6326?pid=MOBFWBYZMNGZVMJE&lid=LSTMOBFWBYZMNGZVMJEAEBPN8&marketplace=FLIPKART&q=iphone12&store=tyy%2F4io&srno=s_1_16&otracker=search&fm=organic&iid=faf3b375-3a3f-478b-b2b4-e8ab5aedec42.MOBFWBYZMNGZVMJE.SEARCH&ppt=None&ppn=None&ssid=4czn5dwofk0000001677774963015&qH=ad588135f239b88b\n",
      "https://www.flipkart.com/apple-iphone-12-red-256-gb/p/itm16f42310fe29a?pid=MOBFWBYZEBH6SAFP&lid=LSTMOBFWBYZEBH6SAFPS1GZIY&marketplace=FLIPKART&q=iphone12&store=tyy%2F4io&srno=s_1_17&otracker=search&fm=organic&iid=faf3b375-3a3f-478b-b2b4-e8ab5aedec42.MOBFWBYZEBH6SAFP.SEARCH&ppt=None&ppn=None&ssid=4czn5dwofk0000001677774963015&qH=ad588135f239b88b\n",
      "https://www.flipkart.com/apple-iphone-12-blue-128-gb/p/itm02853ae92e90a?pid=MOBFWBYZKPTZF9VG&lid=LSTMOBFWBYZKPTZF9VGJD5AMO&marketplace=FLIPKART&q=iphone12&store=tyy%2F4io&srno=s_1_18&otracker=search&fm=organic&iid=faf3b375-3a3f-478b-b2b4-e8ab5aedec42.MOBFWBYZKPTZF9VG.SEARCH&ppt=None&ppn=None&ssid=4czn5dwofk0000001677774963015&qH=ad588135f239b88b\n",
      "https://www.flipkart.com/apple-iphone-11-white-128-gb/p/itme32df47ea6742?pid=MOBFWQ6B7KKRXDDS&lid=LSTMOBFWQ6B7KKRXDDSULUZ0N&marketplace=FLIPKART&q=iphone12&store=tyy%2F4io&spotlightTagId=BestsellerId_tyy%2F4io&srno=s_1_19&otracker=search&fm=organic&iid=faf3b375-3a3f-478b-b2b4-e8ab5aedec42.MOBFWQ6B7KKRXDDS.SEARCH&ppt=None&ppn=None&ssid=4czn5dwofk0000001677774963015&qH=ad588135f239b88b\n",
      "https://www.flipkart.com/apple-iphone-13-midnight-128-gb/p/itmca361aab1c5b0?pid=MOBG6VF5Q82T3XRS&lid=LSTMOBG6VF5Q82T3XRSOXJLM9&marketplace=FLIPKART&q=iphone12&store=tyy%2F4io&srno=s_1_20&otracker=search&fm=organic&iid=faf3b375-3a3f-478b-b2b4-e8ab5aedec42.MOBG6VF5Q82T3XRS.SEARCH&ppt=None&ppn=None&ssid=4czn5dwofk0000001677774963015&qH=ad588135f239b88b\n",
      "https://www.flipkart.com/apple-iphone-13-blue-128-gb/p/itm6c601e0a58b3c?pid=MOBG6VF5SMXPNQHG&lid=LSTMOBG6VF5SMXPNQHGH3DY6Z&marketplace=FLIPKART&q=iphone12&store=tyy%2F4io&srno=s_1_21&otracker=search&fm=organic&iid=faf3b375-3a3f-478b-b2b4-e8ab5aedec42.MOBG6VF5SMXPNQHG.SEARCH&ppt=None&ppn=None&ssid=4czn5dwofk0000001677774963015&qH=ad588135f239b88b\n",
      "https://www.flipkart.com/apple-iphone-13-starlight-128-gb/p/itmc9604f122ae7f?pid=MOBG6VF5ADKHKXFX&lid=LSTMOBG6VF5ADKHKXFXQGX7PK&marketplace=FLIPKART&q=iphone12&store=tyy%2F4io&srno=s_1_22&otracker=search&fm=organic&iid=faf3b375-3a3f-478b-b2b4-e8ab5aedec42.MOBG6VF5ADKHKXFX.SEARCH&ppt=None&ppn=None&ssid=4czn5dwofk0000001677774963015&qH=ad588135f239b88b\n",
      "https://www.flipkart.com/apple-iphone-14-purple-128-gb/p/itm0b581eba85e08?pid=MOBGHWFHQFSQYBFU&lid=LSTMOBGHWFHQFSQYBFUSBTOEU&marketplace=FLIPKART&q=iphone12&store=tyy%2F4io&srno=s_1_23&otracker=search&fm=organic&iid=faf3b375-3a3f-478b-b2b4-e8ab5aedec42.MOBGHWFHQFSQYBFU.SEARCH&ppt=None&ppn=None&ssid=4czn5dwofk0000001677774963015&qH=ad588135f239b88b\n",
      "https://www.flipkart.com/apple-iphone-11-white-64-gb/p/itmfc6a7091eb20b?pid=MOBFWQ6BVWVEH3XE&lid=LSTMOBFWQ6BVWVEH3XEMXQMLO&marketplace=FLIPKART&q=iphone12&store=tyy%2F4io&srno=s_1_24&otracker=search&fm=organic&iid=faf3b375-3a3f-478b-b2b4-e8ab5aedec42.MOBFWQ6BVWVEH3XE.SEARCH&ppt=None&ppn=None&ssid=4czn5dwofk0000001677774963015&qH=ad588135f239b88b\n"
     ]
    },
    {
     "ename": "AttributeError",
     "evalue": "'NoneType' object has no attribute 'a'",
     "output_type": "error",
     "traceback": [
      "\u001b[0;31m---------------------------------------------------------------------------\u001b[0m",
      "\u001b[0;31mAttributeError\u001b[0m                            Traceback (most recent call last)",
      "Cell \u001b[0;32mIn[116], line 2\u001b[0m\n\u001b[1;32m      1\u001b[0m \u001b[38;5;28;01mfor\u001b[39;00m i \u001b[38;5;129;01min\u001b[39;00m bigbox:\n\u001b[0;32m----> 2\u001b[0m     \u001b[38;5;28mprint\u001b[39m(\u001b[38;5;124m'\u001b[39m\u001b[38;5;124mhttps://www.flipkart.com\u001b[39m\u001b[38;5;124m'\u001b[39m\u001b[38;5;241m+\u001b[39m\u001b[43mi\u001b[49m\u001b[38;5;241;43m.\u001b[39;49m\u001b[43mdiv\u001b[49m\u001b[38;5;241;43m.\u001b[39;49m\u001b[43mdiv\u001b[49m\u001b[38;5;241;43m.\u001b[39;49m\u001b[43mdiv\u001b[49m\u001b[38;5;241;43m.\u001b[39;49m\u001b[43ma\u001b[49m[\u001b[38;5;124m'\u001b[39m\u001b[38;5;124mhref\u001b[39m\u001b[38;5;124m'\u001b[39m])\n",
      "\u001b[0;31mAttributeError\u001b[0m: 'NoneType' object has no attribute 'a'"
     ]
    }
   ],
   "source": [
    "for i in bigbox:\n",
    "    print('https://www.flipkart.com'+i.div.div.div.a['href'])"
   ]
  },
  {
   "cell_type": "code",
   "execution_count": null,
   "id": "1c17fbb1-1acb-41ec-a54b-4ba03bf671cd",
   "metadata": {},
   "outputs": [],
   "source": []
  },
  {
   "cell_type": "code",
   "execution_count": null,
   "id": "72e398ef-b578-40a4-be3b-c44c866862a8",
   "metadata": {},
   "outputs": [],
   "source": []
  }
 ],
 "metadata": {
  "kernelspec": {
   "display_name": "Python 3 (ipykernel)",
   "language": "python",
   "name": "python3"
  },
  "language_info": {
   "codemirror_mode": {
    "name": "ipython",
    "version": 3
   },
   "file_extension": ".py",
   "mimetype": "text/x-python",
   "name": "python",
   "nbconvert_exporter": "python",
   "pygments_lexer": "ipython3",
   "version": "3.10.8"
  }
 },
 "nbformat": 4,
 "nbformat_minor": 5
}
