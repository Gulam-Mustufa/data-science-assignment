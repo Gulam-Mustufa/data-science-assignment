{
 "cells": [
  {
   "cell_type": "code",
   "execution_count": 1,
   "id": "3614f44f-653a-4cee-8505-03862dccd88e",
   "metadata": {},
   "outputs": [],
   "source": [
    "#que-1\n",
    "#Class is categorisation/blueprint of real world entity whereas object are instances of class.\n",
    "#ex-let a car be class it has properties like it has 4 tyre,interior design,color,company.so diffrent car such as maruti suzuki,BMW,alto are instances of car so they are object of class car. "
   ]
  },
  {
   "cell_type": "code",
   "execution_count": 2,
   "id": "4c8948af-c877-475f-b0d8-4a2fe4cd1e8c",
   "metadata": {},
   "outputs": [],
   "source": [
    "#que-2\n",
    "# Inheritance, Polymorphism, Encapsulation and Abstraction"
   ]
  },
  {
   "cell_type": "code",
   "execution_count": 3,
   "id": "71938188-a297-4598-8947-97e685ef550a",
   "metadata": {},
   "outputs": [
    {
     "name": "stdout",
     "output_type": "stream",
     "text": [
      "Hello, my name is gulam mustufa\n"
     ]
    }
   ],
   "source": [
    "#que-3\n",
    "#The __init__ method lets the class initialize the object's attributes and serves no other purpose. It is only used within classes.\n",
    "#for example we want to print name of person using oops programming\n",
    "\n",
    "class Person:\n",
    "\t\n",
    "\tdef __init__(self, name):\n",
    "\t\tself.name = name\n",
    "\t\n",
    "\tdef say_hi(self):\n",
    "\t\tprint('Hello, my name is', self.name)\n",
    "\n",
    "p = Person('gulam mustufa')\n",
    "p.say_hi()\n",
    "\n"
   ]
  },
  {
   "cell_type": "code",
   "execution_count": 4,
   "id": "3fef7de0-e43c-4f04-9182-4f014b109cfe",
   "metadata": {},
   "outputs": [],
   "source": [
    "#que-4\n",
    "#The self variable is used to represent the instance of the class which is used in object-oriented programming. It works as a reference to the object. Python uses the self parameter to refer to instance attributes and methods of the class.it is not reserved keyword so we can also use another name in place of self."
   ]
  },
  {
   "cell_type": "code",
   "execution_count": null,
   "id": "a420e27e-4d01-457f-8e7c-9ae3a8cd509d",
   "metadata": {},
   "outputs": [],
   "source": [
    "#que-5\n",
    "#Inheritance is a mechanism in which one class acquires the property of another class. For example, a child inherits the traits of his/her parents. With inheritance, we can reuse the fields and methods of the existing class. Hence, inheritance facilitates Reusability and is an important concept of OOPs"
   ]
  }
 ],
 "metadata": {
  "kernelspec": {
   "display_name": "Python 3 (ipykernel)",
   "language": "python",
   "name": "python3"
  },
  "language_info": {
   "codemirror_mode": {
    "name": "ipython",
    "version": 3
   },
   "file_extension": ".py",
   "mimetype": "text/x-python",
   "name": "python",
   "nbconvert_exporter": "python",
   "pygments_lexer": "ipython3",
   "version": "3.10.8"
  }
 },
 "nbformat": 4,
 "nbformat_minor": 5
}
