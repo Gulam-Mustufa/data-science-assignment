{
 "cells": [
  {
   "cell_type": "code",
   "execution_count": null,
   "id": "36f9bbef-fc4b-4747-984e-59b45d3f76db",
   "metadata": {},
   "outputs": [],
   "source": [
    "#QUE-1\n",
    "# ANS-def keyword is used to create a function.\n",
    "a=[]\n",
    "def odd():\n",
    "    i=1\n",
    "    while i<=25:\n",
    "        a.append(i)\n",
    "        i=i+2\n",
    "    return a    \n",
    "odd()    \n",
    "      \n",
    "        "
   ]
  },
  {
   "cell_type": "code",
   "execution_count": null,
   "id": "035bba86-fe8e-4a84-b978-16608567b962",
   "metadata": {},
   "outputs": [],
   "source": [
    "#QUE-2\n",
    "# *args is used in function when we want to give n number of input in function argument\n",
    "def func1(*args):\n",
    "    return args\n",
    "func1(1,2,3,4)\n"
   ]
  },
  {
   "cell_type": "code",
   "execution_count": null,
   "id": "675d7b52-51a7-44a6-97fe-b2edfc06f611",
   "metadata": {},
   "outputs": [],
   "source": [
    "#QUE-2\n",
    "# **kwargs is used in function when we want to store argument in form of keys and values pairs or in dictionary format.\n",
    "def func2(**kwargs):\n",
    "    return kwargs\n",
    "func2(name = \"gulam mustufa\" , course = \"data science\" )"
   ]
  },
  {
   "cell_type": "code",
   "execution_count": null,
   "id": "5d3838c4-694c-4b3a-8791-c7bfafd8c3c0",
   "metadata": {},
   "outputs": [],
   "source": [
    "#QUE-3\n",
    "#An iterator is an object that contains a countable number of values.An iterator is an object that can be iterated upon, meaning that you can traverse through all the values.\n",
    "# The iterator object is initialized using the iter() method. It uses the next() method for iteration.\n",
    "l= [2, 4, 6, 8, 10, 12, 14,16, 18, 20]\n",
    "l=iter(l)\n",
    "i=1\n",
    "while i<=5:\n",
    "    print(next(l))\n",
    "    i=i+1\n",
    "    "
   ]
  },
  {
   "cell_type": "code",
   "execution_count": null,
   "id": "5309aecf-f8d6-45bd-86fe-b4bc30140335",
   "metadata": {},
   "outputs": [],
   "source": [
    "#QUE-4\n",
    "# Python Generator functions allow you to declare a function that behaves likes an iterator, allowing programmers to make an iterator in a fast, easy, and clean way.\n",
    "# yield keyword is used to create a generator function. A type of function that is memory efficient and can be used like an iterator object. In layman terms, the yield keyword will turn any expression that is given with it into a generator object and return it to the caller.\n",
    "def generator():\n",
    "    for i in range(0,10,1):\n",
    "        yield i\n",
    "        "
   ]
  },
  {
   "cell_type": "code",
   "execution_count": 14,
   "id": "d3109c6e-19c0-4407-9605-fe6e4bba9ae1",
   "metadata": {},
   "outputs": [
    {
     "data": {
      "text/plain": [
       "<generator object primenum at 0x7fbc185ffa70>"
      ]
     },
     "execution_count": 14,
     "metadata": {},
     "output_type": "execute_result"
    }
   ],
   "source": [
    "#QUE-5\n",
    "def primenum():\n",
    "    a = []\n",
    "    b = []\n",
    "    count = 0\n",
    "    for i in range(1, 1001, 1):\n",
    "        a.append(i)\n",
    "    for j in a:\n",
    "        for k in range(j, 0, -1):\n",
    "            if j % k == 0:\n",
    "                count = count + 1\n",
    "        if count == 2:\n",
    "            yield j\n",
    "        count = 0\n",
    "    \n",
    "primenum()"
   ]
  },
  {
   "cell_type": "code",
   "execution_count": 15,
   "id": "a472751f-a1e7-4edb-b71c-f4bb535aa156",
   "metadata": {},
   "outputs": [],
   "source": [
    "c=primenum()"
   ]
  },
  {
   "cell_type": "code",
   "execution_count": 16,
   "id": "07b1656b-8b9d-4cd4-a821-009344020fb2",
   "metadata": {},
   "outputs": [
    {
     "name": "stdout",
     "output_type": "stream",
     "text": [
      "2\n",
      "3\n",
      "5\n",
      "7\n",
      "11\n",
      "13\n",
      "17\n",
      "19\n",
      "23\n",
      "29\n",
      "31\n",
      "37\n",
      "41\n",
      "43\n",
      "47\n",
      "53\n",
      "59\n",
      "61\n",
      "67\n",
      "71\n"
     ]
    }
   ],
   "source": [
    "for i in range(20):\n",
    "    print(next(c))"
   ]
  },
  {
   "cell_type": "code",
   "execution_count": 9,
   "id": "f489f74f-67a0-40e3-bb30-cbec29a628e9",
   "metadata": {},
   "outputs": [
    {
     "name": "stdout",
     "output_type": "stream",
     "text": [
      "0\n",
      "1\n",
      "1\n",
      "2\n",
      "3\n",
      "5\n",
      "8\n",
      "13\n",
      "21\n",
      "34\n"
     ]
    }
   ],
   "source": [
    "#QUE-6\n",
    "i=1\n",
    "a,b=0,1\n",
    "while i<=10:\n",
    "    print(a)\n",
    "    a,b=b,a+b\n",
    "    i=i+1"
   ]
  },
  {
   "cell_type": "code",
   "execution_count": 21,
   "id": "868857ca-5ad9-486f-ac30-85755b6090bf",
   "metadata": {},
   "outputs": [
    {
     "name": "stdout",
     "output_type": "stream",
     "text": [
      "['p', 'w', 's', 'k', 'i', 'l', 'l', 's']\n"
     ]
    }
   ],
   "source": [
    "#QUE-7\n",
    "list=[i for i in \"pwskills\" ]\n",
    "print(list)"
   ]
  },
  {
   "cell_type": "code",
   "execution_count": 46,
   "id": "4f3dce94-85ba-45f9-b9b0-b1fb498ed110",
   "metadata": {},
   "outputs": [
    {
     "name": "stdin",
     "output_type": "stream",
     "text": [
      "enter any number 121\n"
     ]
    },
    {
     "name": "stdout",
     "output_type": "stream",
     "text": [
      "Palindrome\n"
     ]
    }
   ],
   "source": [
    "#QUE-8\n",
    "num = int(input('enter any number'))\n",
    "temp = num\n",
    "reverse = 0\n",
    "while temp > 0:\n",
    "    remainder = temp % 10\n",
    "    reverse = (reverse * 10) + remainder\n",
    "    temp = temp // 10\n",
    "if num == reverse:\n",
    "  print('Palindrome')\n",
    "else:\n",
    "  print(\"Not Palindrome\")"
   ]
  },
  {
   "cell_type": "code",
   "execution_count": 24,
   "id": "1978f0bb-c1ad-4017-a413-a52b2671139a",
   "metadata": {},
   "outputs": [],
   "source": [
    "#QUE-9\n",
    "list=[i for i in range(1,101,1)]"
   ]
  },
  {
   "cell_type": "code",
   "execution_count": 25,
   "id": "4bd2a0db-d56e-481f-915d-37047ddf9cec",
   "metadata": {},
   "outputs": [
    {
     "name": "stdout",
     "output_type": "stream",
     "text": [
      "[1, 2, 3, 4, 5, 6, 7, 8, 9, 10, 11, 12, 13, 14, 15, 16, 17, 18, 19, 20, 21, 22, 23, 24, 25, 26, 27, 28, 29, 30, 31, 32, 33, 34, 35, 36, 37, 38, 39, 40, 41, 42, 43, 44, 45, 46, 47, 48, 49, 50, 51, 52, 53, 54, 55, 56, 57, 58, 59, 60, 61, 62, 63, 64, 65, 66, 67, 68, 69, 70, 71, 72, 73, 74, 75, 76, 77, 78, 79, 80, 81, 82, 83, 84, 85, 86, 87, 88, 89, 90, 91, 92, 93, 94, 95, 96, 97, 98, 99, 100]\n"
     ]
    }
   ],
   "source": [
    "print(list)"
   ]
  },
  {
   "cell_type": "code",
   "execution_count": 30,
   "id": "4ec85d26-5d7e-41b1-a58a-9c02162d741b",
   "metadata": {},
   "outputs": [
    {
     "name": "stdout",
     "output_type": "stream",
     "text": [
      "[1, 3, 5, 7, 9, 11, 13, 15, 17, 19, 21, 23, 25, 27, 29, 31, 33, 35, 37, 39, 41, 43, 45, 47, 49, 51, 53, 55, 57, 59, 61, 63, 65, 67, 69, 71, 73, 75, 77, 79, 81, 83, 85, 87, 89, 91, 93, 95, 97, 99]\n"
     ]
    }
   ],
   "source": [
    "list= [i for i in list if i%2!=0 ]\n",
    "print(list)"
   ]
  },
  {
   "cell_type": "code",
   "execution_count": null,
   "id": "3dffed05-afdb-4cea-9767-aafde848842b",
   "metadata": {},
   "outputs": [],
   "source": []
  }
 ],
 "metadata": {
  "kernelspec": {
   "display_name": "Python 3 (ipykernel)",
   "language": "python",
   "name": "python3"
  },
  "language_info": {
   "codemirror_mode": {
    "name": "ipython",
    "version": 3
   },
   "file_extension": ".py",
   "mimetype": "text/x-python",
   "name": "python",
   "nbconvert_exporter": "python",
   "pygments_lexer": "ipython3",
   "version": "3.10.8"
  }
 },
 "nbformat": 4,
 "nbformat_minor": 5
}
