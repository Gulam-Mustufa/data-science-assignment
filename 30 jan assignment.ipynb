{
 "cells": [
  {
   "cell_type": "code",
   "execution_count": 3,
   "id": "5d5eb245-c5ff-436a-ac54-015b770de066",
   "metadata": {},
   "outputs": [
    {
     "name": "stdin",
     "output_type": "stream",
     "text": [
      "enter your marks 87.2\n"
     ]
    },
    {
     "name": "stdout",
     "output_type": "stream",
     "text": [
      "B\n"
     ]
    }
   ],
   "source": [
    "# Que-1\n",
    "marks=float(input(\"enter your marks\"))\n",
    "if marks >90:\n",
    "    print(\"A\")\n",
    "elif marks >80 and marks <=90:\n",
    "    print(\"B\")\n",
    "elif marks >= 60 and marks <=80:\n",
    "    print(\"C\")\n",
    "elif marks < 60 :\n",
    "    print(\"D\")"
   ]
  },
  {
   "cell_type": "code",
   "execution_count": 1,
   "id": "95057352-8017-497f-86e5-88f880c391fc",
   "metadata": {},
   "outputs": [
    {
     "name": "stdin",
     "output_type": "stream",
     "text": [
      "enter cost price of bike 54\n"
     ]
    },
    {
     "name": "stdout",
     "output_type": "stream",
     "text": [
      "81.0\n"
     ]
    }
   ],
   "source": [
    "# Que-2\n",
    "cost=float(input(\"enter cost price of bike\"))\n",
    "if cost >100000:\n",
    "    print(cost+0.15*cost)\n",
    "elif cost >50000 and cost <=100000:\n",
    "    print(cost + 0.10 * cost)\n",
    "elif cost <=50000 :\n",
    "    print(cost + 0.5 * cost)"
   ]
  },
  {
   "cell_type": "code",
   "execution_count": 13,
   "id": "6d9295e9-7bc7-42d9-9290-0d0f6c085179",
   "metadata": {
    "tags": []
   },
   "outputs": [
    {
     "name": "stdin",
     "output_type": "stream",
     "text": [
      "enter city name Delhi\n"
     ]
    },
    {
     "data": {
      "text/plain": [
       "'Red Fort'"
      ]
     },
     "execution_count": 13,
     "metadata": {},
     "output_type": "execute_result"
    }
   ],
   "source": [
    "# Que-3\n",
    "city_monument={'Delhi':'Red Fort','Agra':'Taj Mahal','Jaipur':'Jal Mahal'}\n",
    "city_name=input('enter city name')\n",
    "\n",
    "city_monument[city_name]\n"
   ]
  },
  {
   "cell_type": "code",
   "execution_count": 16,
   "id": "e5948882-6b5b-49d0-bc90-60a457acdb14",
   "metadata": {},
   "outputs": [
    {
     "name": "stdin",
     "output_type": "stream",
     "text": [
      "enter any number 45\n"
     ]
    },
    {
     "name": "stdout",
     "output_type": "stream",
     "text": [
      "2\n"
     ]
    }
   ],
   "source": [
    "# Que-4\n",
    "number=int(input('enter any number'))\n",
    "i=0\n",
    "while number>= 10:\n",
    "    number=number // 3\n",
    "    i=i+1\n",
    "print((i))\n",
    "\n"
   ]
  },
  {
   "cell_type": "code",
   "execution_count": null,
   "id": "735bbd13-a26b-4320-84a9-64bec9e737c5",
   "metadata": {},
   "outputs": [],
   "source": [
    "# Que-5\n",
    "#ans-A \"While\" Loop is used to repeat a specific block of code an unknown number of times, until a condition is met.It is used when we don't know how many times we have to run a loop. For example, if we want to ask a user for a number greater than 75, we don't know how many times the user may enter a smaller number than 75, so we keep asking \"while the number is not greater than 75\".\n",
    "\n",
    "\n"
   ]
  },
  {
   "cell_type": "code",
   "execution_count": 13,
   "id": "bee87469-d3ac-4f8b-a117-2e5f7f6f701d",
   "metadata": {},
   "outputs": [
    {
     "name": "stdout",
     "output_type": "stream",
     "text": [
      "1 \n",
      "1 2 \n",
      "1 2 3 \n",
      "1 2 3 4 \n",
      "1 2 3 4 5 \n"
     ]
    }
   ],
   "source": [
    "# Que-6\n",
    "rows = 5\n",
    "for i in range(1, rows + 1):\n",
    "    for j in range(1, i + 1):\n",
    "        print(j, end=' ')\n",
    "    print('')\n",
    "\n",
    "\n"
   ]
  },
  {
   "cell_type": "code",
   "execution_count": 14,
   "id": "fe08554e-e60a-43b0-877f-8e7f3ad1b0c6",
   "metadata": {},
   "outputs": [
    {
     "name": "stdout",
     "output_type": "stream",
     "text": [
      "1 1 1 1 1 \n",
      "2 2 2 2 \n",
      "3 3 3 \n",
      "4 4 \n",
      "5 \n"
     ]
    }
   ],
   "source": [
    "# Que-6\n",
    "rows = 5\n",
    "b = 0\n",
    "\n",
    "for i in range(rows, 0, -1):\n",
    "    b += 1\n",
    "    for j in range(1, i + 1):\n",
    "        print(b, end=' ')\n",
    "    print('\\r')\n",
    "\n"
   ]
  },
  {
   "cell_type": "code",
   "execution_count": 15,
   "id": "73375619-77d6-4a61-8575-5a84e94dbf0c",
   "metadata": {},
   "outputs": [
    {
     "name": "stdout",
     "output_type": "stream",
     "text": [
      "0 1 2 3 4 5 \n",
      "0 1 2 3 4 \n",
      "0 1 2 3 \n",
      "0 1 2 \n",
      "0 1 \n"
     ]
    }
   ],
   "source": [
    "# Que-6\n",
    "rows = 5\n",
    "for i in range(rows, 0, -1):\n",
    "    for j in range(0, i + 1):\n",
    "        print(j, end=' ')\n",
    "    print(\"\\r\")\n",
    "\n",
    "\n"
   ]
  },
  {
   "cell_type": "code",
   "execution_count": 11,
   "id": "413a583d-2b98-4f1f-a052-1753249e57ad",
   "metadata": {},
   "outputs": [
    {
     "name": "stdout",
     "output_type": "stream",
     "text": [
      "10\n",
      "9\n",
      "8\n",
      "7\n",
      "6\n",
      "5\n",
      "4\n",
      "3\n",
      "2\n",
      "1\n"
     ]
    }
   ],
   "source": [
    "# Que-7\n",
    "\n",
    "i=10\n",
    "while i>=1:\n",
    "    print(i)\n",
    "    i=i-1"
   ]
  },
  {
   "cell_type": "code",
   "execution_count": 12,
   "id": "fb438685-fbd3-473b-a451-5b513961a4f4",
   "metadata": {},
   "outputs": [
    {
     "name": "stdout",
     "output_type": "stream",
     "text": [
      "10\n",
      "9\n",
      "8\n",
      "7\n",
      "6\n",
      "5\n",
      "4\n",
      "3\n",
      "2\n",
      "1\n"
     ]
    }
   ],
   "source": [
    "# Que-8\n",
    "\n",
    "i=10\n",
    "while i>=1:\n",
    "    print(i)\n",
    "    i=i-1"
   ]
  },
  {
   "cell_type": "code",
   "execution_count": null,
   "id": "a0398eb3-9a04-4dc4-9da7-4be74c8c192c",
   "metadata": {},
   "outputs": [],
   "source": []
  }
 ],
 "metadata": {
  "kernelspec": {
   "display_name": "Python 3 (ipykernel)",
   "language": "python",
   "name": "python3"
  },
  "language_info": {
   "codemirror_mode": {
    "name": "ipython",
    "version": 3
   },
   "file_extension": ".py",
   "mimetype": "text/x-python",
   "name": "python",
   "nbconvert_exporter": "python",
   "pygments_lexer": "ipython3",
   "version": "3.10.8"
  }
 },
 "nbformat": 4,
 "nbformat_minor": 5
}
