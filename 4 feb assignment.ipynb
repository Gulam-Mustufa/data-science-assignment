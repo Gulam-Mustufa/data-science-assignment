{
 "cells": [
  {
   "cell_type": "code",
   "execution_count": 36,
   "id": "a5f5d29c-0143-48cf-9be6-aab837f0e789",
   "metadata": {},
   "outputs": [],
   "source": [
    "#QUE-1\n",
    "s=[('Sachin Tendulkar', 34357), ('Ricky Ponting', 27483), ('Jack Kallis', 25534), ('Virat Kohli', 24936)]"
   ]
  },
  {
   "cell_type": "code",
   "execution_count": 37,
   "id": "a071dd21-1953-4151-a9a8-faa6bc126126",
   "metadata": {},
   "outputs": [
    {
     "name": "stdout",
     "output_type": "stream",
     "text": [
      "[('Virat Kohli', 24936), ('Jack Kallis', 25534), ('Ricky Ponting', 27483), ('Sachin Tendulkar', 34357)]\n"
     ]
    }
   ],
   "source": [
    "sorted_list= sorted(list_of_tuples, key=lambda x: x[1])\n",
    "print(sorted_list)\n"
   ]
  },
  {
   "cell_type": "code",
   "execution_count": 38,
   "id": "f4934dff-f52b-4ccd-ae32-073bfd84ecd0",
   "metadata": {},
   "outputs": [
    {
     "data": {
      "text/plain": [
       "[1, 4, 9, 16, 25, 36, 49, 64, 81, 100]"
      ]
     },
     "execution_count": 38,
     "metadata": {},
     "output_type": "execute_result"
    }
   ],
   "source": [
    "#QUE-2\n",
    "l=[1, 2, 3, 4, 5, 6, 7, 8, 9, 10]\n",
    " \n",
    "list(map(lambda x : x**2 , l))"
   ]
  },
  {
   "cell_type": "code",
   "execution_count": 39,
   "id": "bb5ff08d-494f-484d-af0d-106f4af31959",
   "metadata": {},
   "outputs": [
    {
     "data": {
      "text/plain": [
       "['1', '2', '3', '4', '5', '6', '7', '8', '9', '10']"
      ]
     },
     "execution_count": 39,
     "metadata": {},
     "output_type": "execute_result"
    }
   ],
   "source": [
    "#QUE-3\n",
    "l=[1, 2, 3, 4, 5, 6, 7, 8, 9, 10]\n",
    "list(map(lambda x : str(x) , l))"
   ]
  },
  {
   "cell_type": "code",
   "execution_count": 40,
   "id": "933ed63e-3ac4-47a3-b7f2-455c5e5d9587",
   "metadata": {},
   "outputs": [],
   "source": [
    "#QUE-4\n",
    "from functools import  reduce"
   ]
  },
  {
   "cell_type": "code",
   "execution_count": 41,
   "id": "83dfb7da-1e90-4bd6-9182-de4839c7ba20",
   "metadata": {},
   "outputs": [],
   "source": [
    "l=[]\n",
    "for i in range (1,26,1):\n",
    "    l.append(i)"
   ]
  },
  {
   "cell_type": "code",
   "execution_count": 15,
   "id": "5d50aa97-1c62-4926-9dda-4f718e4f8b33",
   "metadata": {},
   "outputs": [
    {
     "data": {
      "text/plain": [
       "15511210043330985984000000"
      ]
     },
     "execution_count": 15,
     "metadata": {},
     "output_type": "execute_result"
    }
   ],
   "source": [
    "reduce(lambda x ,y : x*y , l)"
   ]
  },
  {
   "cell_type": "code",
   "execution_count": 18,
   "id": "15ea6c16-5c5c-454d-b00c-750b125b35c4",
   "metadata": {},
   "outputs": [
    {
     "data": {
      "text/plain": [
       "[6, 60, 90, 120]"
      ]
     },
     "execution_count": 18,
     "metadata": {},
     "output_type": "execute_result"
    }
   ],
   "source": [
    "#QUE-5\n",
    "# we know that the number that are divisible by 2 and 3 must be divisible by 6 also.\n",
    "l=[2, 3, 6, 9, 27, 60, 90, 120, 55, 46]\n",
    "list(filter(lambda x : x % 6 == 0 , l))"
   ]
  },
  {
   "cell_type": "code",
   "execution_count": 22,
   "id": "2f0eb27b-f158-46ca-b149-4facee4759e0",
   "metadata": {},
   "outputs": [
    {
     "data": {
      "text/plain": [
       "['php', 'aba', 'radar', 'level']"
      ]
     },
     "execution_count": 22,
     "metadata": {},
     "output_type": "execute_result"
    }
   ],
   "source": [
    "#QUE-6\n",
    "l=['python', 'php', 'aba', 'radar', 'level']\n",
    "list(filter(lambda x : x[::-1]==x , l))"
   ]
  },
  {
   "cell_type": "code",
   "execution_count": null,
   "id": "ec870214-7634-48b8-9e61-7815fd4d2188",
   "metadata": {},
   "outputs": [],
   "source": []
  }
 ],
 "metadata": {
  "kernelspec": {
   "display_name": "Python 3 (ipykernel)",
   "language": "python",
   "name": "python3"
  },
  "language_info": {
   "codemirror_mode": {
    "name": "ipython",
    "version": 3
   },
   "file_extension": ".py",
   "mimetype": "text/x-python",
   "name": "python",
   "nbconvert_exporter": "python",
   "pygments_lexer": "ipython3",
   "version": "3.10.8"
  }
 },
 "nbformat": 4,
 "nbformat_minor": 5
}
