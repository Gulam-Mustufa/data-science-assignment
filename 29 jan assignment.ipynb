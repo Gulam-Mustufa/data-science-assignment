{
 "cells": [
  {
   "cell_type": "code",
   "execution_count": null,
   "id": "c410d216-d199-48da-ae6f-70afa918fee1",
   "metadata": {},
   "outputs": [],
   "source": [
    "# 1-who developed Python programming language?\n",
    "#  ans-Guido van Rossum\n"
   ]
  },
  {
   "cell_type": "code",
   "execution_count": null,
   "id": "eb583a65-3c5b-4c33-8395-adbfd676ee3f",
   "metadata": {},
   "outputs": [],
   "source": [
    "# 2-which type of programming does python support?\n",
    "# ans-Object-oriented programming and structured programming."
   ]
  },
  {
   "cell_type": "code",
   "execution_count": null,
   "id": "7f337dd8-107a-4aa8-9394-1e6f58846fb5",
   "metadata": {},
   "outputs": [],
   "source": [
    "# 3-Is python case sensitive when dealing with identifiers?\n",
    "# ans-yes"
   ]
  },
  {
   "cell_type": "code",
   "execution_count": null,
   "id": "17efa9d2-806e-4d8f-bfc3-85ffc9d88d96",
   "metadata": {},
   "outputs": [],
   "source": [
    "# 4-what is correct extension of python file?\n",
    "# ans-.py\n"
   ]
  },
  {
   "cell_type": "code",
   "execution_count": null,
   "id": "8603bd35-b475-417f-a7c9-4649efbf7653",
   "metadata": {},
   "outputs": [],
   "source": [
    "# 5-is python code compiled or interpreted?\n",
    "# ans-interpreted"
   ]
  },
  {
   "cell_type": "code",
   "execution_count": null,
   "id": "6791d351-495a-4eee-9c2d-22edba640d88",
   "metadata": {},
   "outputs": [],
   "source": [
    "# 6-name a few block of code used to define in a Python language?\n",
    "# ans-a module, a function body, and a class definition."
   ]
  },
  {
   "cell_type": "code",
   "execution_count": null,
   "id": "0611afc1-338e-49e6-8a3e-6d0ec2d147c1",
   "metadata": {},
   "outputs": [],
   "source": [
    "# 7-state a character that is used to give a single line comment in Python?\n",
    "# ans-#"
   ]
  },
  {
   "cell_type": "code",
   "execution_count": null,
   "id": "90359007-3fd0-4911-afbf-ef5359484b5b",
   "metadata": {},
   "outputs": [],
   "source": [
    "# 8-mention a function in Python which can help us to find the version of python we are currently working on?\n",
    "# ans-Using python_version() function"
   ]
  },
  {
   "cell_type": "code",
   "execution_count": null,
   "id": "d3b2b88e-5135-4427-b670-147cd5cd66b0",
   "metadata": {},
   "outputs": [],
   "source": [
    "# 9-Python support creation of anonymous function at run time using construct\n",
    "# ans-lambda"
   ]
  },
  {
   "cell_type": "code",
   "execution_count": null,
   "id": "50d4fe65-253c-4c8e-a14e-9944900ed70c",
   "metadata": {},
   "outputs": [],
   "source": [
    "# 10-what does pip stand for python?\n",
    "# ans-preferred installer program"
   ]
  },
  {
   "cell_type": "code",
   "execution_count": null,
   "id": "a603d220-1cc2-4260-a05c-fd73b61fab7f",
   "metadata": {},
   "outputs": [],
   "source": [
    "# 11-mention few  built-in functions in python\n",
    "# ans-print(),input(),type(),help()"
   ]
  },
  {
   "cell_type": "code",
   "execution_count": null,
   "id": "4fc3e660-5e28-4b7c-b354-a3ea18856857",
   "metadata": {},
   "outputs": [],
   "source": [
    "# 12-what is maximum possible length of identifier in Python?\n",
    "# ans-79"
   ]
  },
  {
   "cell_type": "code",
   "execution_count": null,
   "id": "1f37bd6a-9852-43ed-82e1-44791b1cea44",
   "metadata": {},
   "outputs": [],
   "source": [
    "# 13-what are the benefit of using python?\n",
    "# ans-open source,easy to understand,avialability of extensive libraries,large python developer community\n"
   ]
  },
  {
   "cell_type": "code",
   "execution_count": null,
   "id": "37e4f669-347d-41cf-a23f-50f3f876fb7a",
   "metadata": {},
   "outputs": [],
   "source": [
    "# 14-how is memory managed in Python?\n",
    "# ans-Memory management in Python involves a private heap containing all Python objects and data structures. The management of this private heap is ensured internally by the Python memory manager."
   ]
  },
  {
   "cell_type": "code",
   "execution_count": null,
   "id": "0d57d101-c68e-49c1-ac2c-4a640c6e86ef",
   "metadata": {},
   "outputs": [],
   "source": [
    "# 15-how to install python on windows and and set path variable?\n",
    "#ans-\n",
    "# A-Right-clicking This PC and going to Properties.\n",
    "\n",
    "# B-Clicking on the Advanced system settings in the menu on the left.\n",
    "\n",
    "# C-Clicking on the Environment Variables button on the bottom right.\n",
    "\n",
    "# D-In the System variables section, selecting the Path variable and clicking on Edit. The next screen will show all the directories that are currently a part of the PATH variable.\n",
    "\n",
    "# E-Clicking on New and entering Python’s install directory.'\""
   ]
  },
  {
   "cell_type": "code",
   "execution_count": null,
   "id": "6dcaa39b-46b8-43dc-9fa7-7398917ecb87",
   "metadata": {},
   "outputs": [],
   "source": [
    "# 16-is indentation required in Python?\n",
    "# ans-yes"
   ]
  }
 ],
 "metadata": {
  "kernelspec": {
   "display_name": "Python 3 (ipykernel)",
   "language": "python",
   "name": "python3"
  },
  "language_info": {
   "codemirror_mode": {
    "name": "ipython",
    "version": 3
   },
   "file_extension": ".py",
   "mimetype": "text/x-python",
   "name": "python",
   "nbconvert_exporter": "python",
   "pygments_lexer": "ipython3",
   "version": "3.10.8"
  }
 },
 "nbformat": 4,
 "nbformat_minor": 5
}
